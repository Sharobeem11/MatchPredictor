{
 "cells": [
  {
   "cell_type": "code",
   "execution_count": 7,
   "metadata": {},
   "outputs": [],
   "source": [
    "import requests"
   ]
  },
  {
   "cell_type": "code",
   "execution_count": 8,
   "metadata": {},
   "outputs": [],
   "source": [
    "standings_url = \"https://fbref.com/en/comps/12/La-Liga-Stats\"\n",
    "data = requests.get(standings_url)"
   ]
  },
  {
   "cell_type": "code",
   "execution_count": 9,
   "metadata": {},
   "outputs": [],
   "source": [
    "from bs4 import BeautifulSoup # parsing html\n",
    "soup = BeautifulSoup(data.text)"
   ]
  },
  {
   "cell_type": "code",
   "execution_count": 11,
   "metadata": {},
   "outputs": [
    {
     "data": {
      "text/plain": [
       "['https://fbref.com/en/squads/206d90db/Barcelona-Stats',\n",
       " 'https://fbref.com/en/squads/53a2f082/Real-Madrid-Stats',\n",
       " 'https://fbref.com/en/squads/db3b9613/Atletico-Madrid-Stats',\n",
       " 'https://fbref.com/en/squads/2b390eca/Athletic-Club-Stats',\n",
       " 'https://fbref.com/en/squads/2a8183b3/Villarreal-Stats',\n",
       " 'https://fbref.com/en/squads/fc536746/Real-Betis-Stats',\n",
       " 'https://fbref.com/en/squads/2aa12281/Mallorca-Stats',\n",
       " 'https://fbref.com/en/squads/f25da7fb/Celta-Vigo-Stats',\n",
       " 'https://fbref.com/en/squads/98e8af82/Rayo-Vallecano-Stats',\n",
       " 'https://fbref.com/en/squads/ad2be733/Sevilla-Stats',\n",
       " 'https://fbref.com/en/squads/7848bd64/Getafe-Stats',\n",
       " 'https://fbref.com/en/squads/e31d1cd9/Real-Sociedad-Stats',\n",
       " 'https://fbref.com/en/squads/9024a00a/Girona-Stats',\n",
       " 'https://fbref.com/en/squads/03c57e2b/Osasuna-Stats',\n",
       " 'https://fbref.com/en/squads/a8661628/Espanyol-Stats',\n",
       " 'https://fbref.com/en/squads/dcc91a7b/Valencia-Stats',\n",
       " 'https://fbref.com/en/squads/8d6fd021/Alaves-Stats',\n",
       " 'https://fbref.com/en/squads/7c6f2c78/Leganes-Stats',\n",
       " 'https://fbref.com/en/squads/0049d422/Las-Palmas-Stats',\n",
       " 'https://fbref.com/en/squads/17859612/Valladolid-Stats']"
      ]
     },
     "execution_count": 11,
     "metadata": {},
     "output_type": "execute_result"
    }
   ],
   "source": [
    "standings_table = soup.select('table.stats_table')[0]\n",
    "links = standings_table.find_all('a')\n",
    "links = [l.get('href') for l in links]\n",
    "links = [l for l in links if '/squads/' in l]\n",
    "team_urls = [f\"https://fbref.com{l}\" for l in links]\n",
    "team_urls"
   ]
  }
 ],
 "metadata": {
  "kernelspec": {
   "display_name": "pandas_playground",
   "language": "python",
   "name": "python3"
  },
  "language_info": {
   "codemirror_mode": {
    "name": "ipython",
    "version": 3
   },
   "file_extension": ".py",
   "mimetype": "text/x-python",
   "name": "python",
   "nbconvert_exporter": "python",
   "pygments_lexer": "ipython3",
   "version": "3.10.8"
  }
 },
 "nbformat": 4,
 "nbformat_minor": 2
}
